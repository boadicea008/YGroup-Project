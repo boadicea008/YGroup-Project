{
 "cells": [
  {
   "cell_type": "code",
   "execution_count": 1,
   "metadata": {
    "collapsed": true
   },
   "outputs": [],
   "source": [
    "import os\n",
    "from pathlib import Path\n",
    "import pandas\n",
    "import json\n",
    "from pandas.io.json import json_normalize\n",
    "import matplotlib.pyplot as plt"
   ]
  },
  {
   "cell_type": "code",
   "execution_count": 2,
   "metadata": {
    "collapsed": false
   },
   "outputs": [
    {
     "name": "stdout",
     "output_type": "stream",
     "text": [
      "Please, inform the path to the project folder: \n",
      "Getting data from  /home/cloudera/Documents/ygroup-project/data/stations.json\n"
     ]
    }
   ],
   "source": [
    "#basepath = Path(os.path.dirname(os.path.dirname(os.path.abspath(__file__))))\n",
    "#filepath = basepath / 'YGroup-Project' / 'data' / f'OD_{year}.csv'\n",
    "\n",
    "default_folder = '/home/cloudera/Documents/ygroup-project'\n",
    "proj_path = str(input(\"Please, inform the path to the project folder: \") or default_folder)\n",
    "filepath = proj_path+'/data/stations.json'\n",
    "\n",
    "print(\"Getting data from \", filepath)"
   ]
  },
  {
   "cell_type": "code",
   "execution_count": 3,
   "metadata": {
    "collapsed": false
   },
   "outputs": [
    {
     "data": {
      "text/html": [
       "<div>\n",
       "<table border=\"1\" class=\"dataframe\">\n",
       "  <thead>\n",
       "    <tr style=\"text-align: right;\">\n",
       "      <th></th>\n",
       "      <th>b</th>\n",
       "      <th>ba</th>\n",
       "      <th>bk</th>\n",
       "      <th>bl</th>\n",
       "      <th>bx</th>\n",
       "      <th>da</th>\n",
       "      <th>dx</th>\n",
       "      <th>id</th>\n",
       "      <th>la</th>\n",
       "      <th>lc</th>\n",
       "      <th>lo</th>\n",
       "      <th>lu</th>\n",
       "      <th>m</th>\n",
       "      <th>n</th>\n",
       "      <th>s</th>\n",
       "      <th>st</th>\n",
       "      <th>su</th>\n",
       "    </tr>\n",
       "  </thead>\n",
       "  <tbody>\n",
       "    <tr>\n",
       "      <th>0</th>\n",
       "      <td>False</td>\n",
       "      <td>15</td>\n",
       "      <td>False</td>\n",
       "      <td>False</td>\n",
       "      <td>0</td>\n",
       "      <td>0</td>\n",
       "      <td>0</td>\n",
       "      <td>1</td>\n",
       "      <td>45.509328</td>\n",
       "      <td>1510070565576</td>\n",
       "      <td>-73.554347</td>\n",
       "      <td>1510061994757</td>\n",
       "      <td>False</td>\n",
       "      <td>6001</td>\n",
       "      <td>Hôtel-de-Ville 2 (du Champs-de-Mars / Gosford)</td>\n",
       "      <td>1</td>\n",
       "      <td>False</td>\n",
       "    </tr>\n",
       "    <tr>\n",
       "      <th>1</th>\n",
       "      <td>False</td>\n",
       "      <td>12</td>\n",
       "      <td>False</td>\n",
       "      <td>False</td>\n",
       "      <td>0</td>\n",
       "      <td>11</td>\n",
       "      <td>0</td>\n",
       "      <td>2</td>\n",
       "      <td>45.539292</td>\n",
       "      <td>1510070446412</td>\n",
       "      <td>-73.541031</td>\n",
       "      <td>1510065732418</td>\n",
       "      <td>False</td>\n",
       "      <td>6002</td>\n",
       "      <td>Ste-Catherine / Dézéry</td>\n",
       "      <td>1</td>\n",
       "      <td>False</td>\n",
       "    </tr>\n",
       "    <tr>\n",
       "      <th>2</th>\n",
       "      <td>False</td>\n",
       "      <td>8</td>\n",
       "      <td>False</td>\n",
       "      <td>False</td>\n",
       "      <td>0</td>\n",
       "      <td>11</td>\n",
       "      <td>0</td>\n",
       "      <td>3</td>\n",
       "      <td>45.511132</td>\n",
       "      <td>1510070398986</td>\n",
       "      <td>-73.567907</td>\n",
       "      <td>1510069557891</td>\n",
       "      <td>False</td>\n",
       "      <td>6003</td>\n",
       "      <td>Clark / Evans</td>\n",
       "      <td>1</td>\n",
       "      <td>False</td>\n",
       "    </tr>\n",
       "    <tr>\n",
       "      <th>3</th>\n",
       "      <td>False</td>\n",
       "      <td>26</td>\n",
       "      <td>False</td>\n",
       "      <td>False</td>\n",
       "      <td>0</td>\n",
       "      <td>9</td>\n",
       "      <td>0</td>\n",
       "      <td>4</td>\n",
       "      <td>45.509188</td>\n",
       "      <td>1510070613361</td>\n",
       "      <td>-73.554580</td>\n",
       "      <td>1510069651843</td>\n",
       "      <td>False</td>\n",
       "      <td>6004</td>\n",
       "      <td>Hôtel-de-Ville (du Champs-de-Mars / Gosford)</td>\n",
       "      <td>1</td>\n",
       "      <td>False</td>\n",
       "    </tr>\n",
       "    <tr>\n",
       "      <th>4</th>\n",
       "      <td>False</td>\n",
       "      <td>14</td>\n",
       "      <td>False</td>\n",
       "      <td>False</td>\n",
       "      <td>0</td>\n",
       "      <td>9</td>\n",
       "      <td>0</td>\n",
       "      <td>6</td>\n",
       "      <td>45.557895</td>\n",
       "      <td>1510070500075</td>\n",
       "      <td>-73.576529</td>\n",
       "      <td>1510062707620</td>\n",
       "      <td>False</td>\n",
       "      <td>6006</td>\n",
       "      <td>18e avenue / Rosemont</td>\n",
       "      <td>1</td>\n",
       "      <td>False</td>\n",
       "    </tr>\n",
       "  </tbody>\n",
       "</table>\n",
       "</div>"
      ],
      "text/plain": [
       "       b  ba     bk     bl  bx  da  dx  id         la             lc  \\\n",
       "0  False  15  False  False   0   0   0   1  45.509328  1510070565576   \n",
       "1  False  12  False  False   0  11   0   2  45.539292  1510070446412   \n",
       "2  False   8  False  False   0  11   0   3  45.511132  1510070398986   \n",
       "3  False  26  False  False   0   9   0   4  45.509188  1510070613361   \n",
       "4  False  14  False  False   0   9   0   6  45.557895  1510070500075   \n",
       "\n",
       "          lo             lu      m     n  \\\n",
       "0 -73.554347  1510061994757  False  6001   \n",
       "1 -73.541031  1510065732418  False  6002   \n",
       "2 -73.567907  1510069557891  False  6003   \n",
       "3 -73.554580  1510069651843  False  6004   \n",
       "4 -73.576529  1510062707620  False  6006   \n",
       "\n",
       "                                                s  st     su  \n",
       "0  Hôtel-de-Ville 2 (du Champs-de-Mars / Gosford)   1  False  \n",
       "1                          Ste-Catherine / Dézéry   1  False  \n",
       "2                                   Clark / Evans   1  False  \n",
       "3    Hôtel-de-Ville (du Champs-de-Mars / Gosford)   1  False  \n",
       "4                           18e avenue / Rosemont   1  False  "
      ]
     },
     "execution_count": 3,
     "metadata": {},
     "output_type": "execute_result"
    }
   ],
   "source": [
    "with open(filepath) as f:\n",
    "    d = json.load(f) \n",
    "\n",
    "st = json_normalize(d['stations']) \n",
    "st.head(5) "
   ]
  },
  {
   "cell_type": "code",
   "execution_count": 4,
   "metadata": {
    "collapsed": false,
    "scrolled": true
   },
   "outputs": [
    {
     "data": {
      "text/html": [
       "<div>\n",
       "<table border=\"1\" class=\"dataframe\">\n",
       "  <thead>\n",
       "    <tr style=\"text-align: right;\">\n",
       "      <th></th>\n",
       "      <th>station_id</th>\n",
       "      <th>station_ba</th>\n",
       "    </tr>\n",
       "  </thead>\n",
       "  <tbody>\n",
       "    <tr>\n",
       "      <th>0</th>\n",
       "      <td>1</td>\n",
       "      <td>15</td>\n",
       "    </tr>\n",
       "    <tr>\n",
       "      <th>1</th>\n",
       "      <td>2</td>\n",
       "      <td>12</td>\n",
       "    </tr>\n",
       "    <tr>\n",
       "      <th>2</th>\n",
       "      <td>3</td>\n",
       "      <td>8</td>\n",
       "    </tr>\n",
       "    <tr>\n",
       "      <th>3</th>\n",
       "      <td>4</td>\n",
       "      <td>26</td>\n",
       "    </tr>\n",
       "    <tr>\n",
       "      <th>4</th>\n",
       "      <td>6</td>\n",
       "      <td>14</td>\n",
       "    </tr>\n",
       "  </tbody>\n",
       "</table>\n",
       "</div>"
      ],
      "text/plain": [
       "   station_id  station_ba\n",
       "0           1          15\n",
       "1           2          12\n",
       "2           3           8\n",
       "3           4          26\n",
       "4           6          14"
      ]
     },
     "execution_count": 4,
     "metadata": {},
     "output_type": "execute_result"
    }
   ],
   "source": [
    "capacity = pandas.DataFrame({'station_id':st['id']})\n",
    "capacity['station_ba'] = st['ba']\n",
    "capacity.head(5)\n",
    "# fulldf.groupby('start_station_code').agg({'start_date': 'count'}).sort_values('start_date',ascending=False).head(int(topn))"
   ]
  },
  {
   "cell_type": "code",
   "execution_count": 5,
   "metadata": {
    "collapsed": false
   },
   "outputs": [
    {
     "name": "stdout",
     "output_type": "stream",
     "text": [
      "\n",
      "Capacidad total de bikes: 4925 \n",
      "\n"
     ]
    }
   ],
   "source": [
    "print(\"\\nCapacidad total de bikes:\", capacity['station_ba'].sum(),\"\\n\")"
   ]
  }
 ],
 "metadata": {
  "kernelspec": {
   "display_name": "Python 3",
   "language": "python",
   "name": "python3"
  },
  "language_info": {
   "codemirror_mode": {
    "name": "ipython",
    "version": 3
   },
   "file_extension": ".py",
   "mimetype": "text/x-python",
   "name": "python",
   "nbconvert_exporter": "python",
   "pygments_lexer": "ipython3",
   "version": "3.5.1"
  }
 },
 "nbformat": 4,
 "nbformat_minor": 0
}